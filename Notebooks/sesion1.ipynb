{
  "nbformat": 4,
  "nbformat_minor": 0,
  "metadata": {
    "colab": {
      "name": "sesion1.ipynb",
      "provenance": []
    },
    "kernelspec": {
      "name": "python3",
      "display_name": "Python 3"
    }
  },
  "cells": [
    {
      "cell_type": "markdown",
      "metadata": {
        "id": "gFlUMfVbkj4s"
      },
      "source": [
        "<p><img alt=\"Colaboratory logo\" height=\"140px\" src=\"https://upload.wikimedia.org/wikipedia/commons/archive/f/fb/20161010213812%21Escudo-UdeA.svg\" align=\"left\" hspace=\"10px\" vspace=\"0px\"></p>\n",
        "\n",
        "# **Diplomado de Análisis de datos y Machine Learning en Python**\n",
        "\n",
        "\n",
        "El presente diplomado hace parte del centro de Big Data de la facultad de ciencias exactas y naturales (FCEN) de la Universidad de Antioquia.\n",
        "\n",
        "## **Sesión 1**\n",
        "\n",
        "## **Contenido**\n",
        "\n",
        "- <a href=\"#libs\"> Introducción</a><br>\n",
        "  - <a href=\"#libs\"> Inteligencia Artificial</a><br>\n",
        "  - <a href=\"#libs\"> Machine Learning</a><br>\n",
        "   \n",
        "- <a href=\"#numpy\"> Introducción a Python</a><br>\n",
        "\n"
      ]
    },
    {
      "cell_type": "markdown",
      "metadata": {
        "id": "kYSiWJy7NnYT"
      },
      "source": [
        "# **Inteligencia artificial (IA)**\n",
        "\n",
        "Es el intento de automatizar tareas intelectuales normalmente realizadas por humanos\n"
      ]
    },
    {
      "cell_type": "markdown",
      "metadata": {
        "id": "d8vQu5xRmJbQ"
      },
      "source": [
        "<p><img alt=\"Colaboratory logo\" height=\"500px\" src=\"https://miro.medium.com/max/2000/1*hEB2c8gKxgjJtDBU_yrdPA.png\" align=\"left\" hspace=\"10px\" vspace=\"0px\"></p>\n",
        "\n"
      ]
    },
    {
      "cell_type": "markdown",
      "metadata": {
        "id": "9v-oq_yqooYv"
      },
      "source": [
        "# **Machine Learning (ML)**\n",
        "\n",
        "Es un subcampo de IA que surge de esta pregunta: ¿podría una computadora ir más allá de \"lo que le ordenamos que realize\" y aprender por sí misma cómo realizar una tarea específica?"
      ]
    },
    {
      "cell_type": "markdown",
      "metadata": {
        "id": "dUaMc68MPAD-"
      },
      "source": [
        "\n",
        "El reciente interés por la IA se da básicamente por los siguientes tres puntos:\n",
        "\n",
        "* Reciente progreso en el desarrollo de algoritmos\n",
        "* Disponibilidad actual de datos\n",
        "* Poder computacional actual"
      ]
    },
    {
      "cell_type": "markdown",
      "metadata": {
        "id": "b5mpXpsdMWfL"
      },
      "source": [
        "### **¿Cómo ha cambiado el paradigma?**\n",
        "\n",
        "<p><img alt=\"Colaboratory logo\" height=\"200px\" src=\"https://i.imgur.com/MIbNfby.png\" align=\"center\" hspace=\"10px\" vspace=\"0px\"></p> "
      ]
    },
    {
      "cell_type": "markdown",
      "metadata": {
        "id": "4I3Ue3lXNzeI"
      },
      "source": [
        "### **Tipos de sistemas en Machine Learning**\n",
        "\n",
        "Los sistemas de machine learning los clasificaremos de acuerdo a la relación que se establezca entre los datos de entrada y salida, además de la naturaleza continua o discreta de los datos:"
      ]
    },
    {
      "cell_type": "markdown",
      "metadata": {
        "id": "e_rR0sVuJKnN"
      },
      "source": [
        "![](https://miro.medium.com/max/700/0*F23wacf0xFsV4I40.jpg)"
      ]
    },
    {
      "cell_type": "markdown",
      "metadata": {
        "id": "vBgvrT7uPFLV"
      },
      "source": [
        "### **¿Por qué utilizar ML?** \n",
        "\n",
        "Podemos utilizar el ML para:\n",
        "\n",
        "* Problemas para los cuales las soluciones existentes requieren una gran cantidad de trabajo. \n",
        "* Problemas complejos para los que no existe una solución con los métodos tradicionales. \n",
        "* Entornos fluctuantes. \n",
        "* Obtener información sobre problemas complejos y grandes cantidades de datos."
      ]
    },
    {
      "cell_type": "markdown",
      "metadata": {
        "id": "yAgJWLEGObCG"
      },
      "source": [
        "### **¿Cómo es el \"workflow\" en ML?**"
      ]
    },
    {
      "cell_type": "markdown",
      "metadata": {
        "id": "vJldsNCxIRny"
      },
      "source": [
        "![](https://i.imgur.com/5VtZIOH.png)"
      ]
    },
    {
      "cell_type": "markdown",
      "metadata": {
        "id": "j9qYoEO7vBxb"
      },
      "source": [
        "#**Temáticas**\n",
        "\n",
        "1. Introducción al curso\n",
        "2. Variables y tipos\n",
        "3. Estructuras de control de flujo\n",
        "4. Ciclos, condicionales e interruptores\n",
        "5. Listas, Tuplas y Diccionarios\n",
        "6. Funciones\n",
        "7. Numpy\n",
        "8. Graficado con Matplitlib\n",
        "9. Introducción a Pandas\n",
        "10. Operaciones de datos sobre pandas\n",
        "11. Tratamiento de datos con pandas\n",
        "12. Graficado con Seaborn\n",
        "13. Clases, Aprendizaje Supervisado y Regresión lineal\n",
        "14. Sklearn\n",
        "15. Conjuntos de entrenamiento y prueba, métricas y preprocesado\n",
        "16. Valores nulos, estandrización y normalización\n",
        "17. Variables categóricas\n",
        "18. Pipelines, Validación cruzada y regresión polinómica\n",
        "19. Validación de modelos, sesgo/varianza, curvas de validación y curvas de aprendizaje\n",
        "20. Regularización, regresión de ridge, regresión Lasso, redes elásticas, gradiente descendente\n",
        "21. Regresión logistica, regresión logistica multinomial\n",
        "22. Support Vector Machine (SVM) lineal y no lineal\n",
        "23. Métricas para el problema de clasificación\n",
        "24. Árboles de desición y Random Forest."
      ]
    },
    {
      "cell_type": "markdown",
      "metadata": {
        "id": "ffCVXMknCeiU"
      },
      "source": [
        "#**Plataformas**\n",
        "- google_meet\n",
        "- Classroom\n",
        "- Colabortory\n",
        "- (opcional) Github\n"
      ]
    },
    {
      "cell_type": "markdown",
      "metadata": {
        "id": "eDFe6klJk7Gl"
      },
      "source": [
        "#**Introducción a Python**\n",
        "Python es un lenguaje de programación de alto nivel (sintaxis simple), interpretado y orientado a los objetos.\n",
        "\n",
        "- **interpretado**: Python es procesado al momento de la ejecución por el interpretador. No se necesita de un proceso previo de la compilación para la posterior ejecución.\n",
        "\n",
        "- **Orientado a objetos**"
      ]
    },
    {
      "cell_type": "code",
      "metadata": {
        "id": "MJBXKc5Labbp"
      },
      "source": [
        ""
      ],
      "execution_count": null,
      "outputs": []
    }
  ]
}