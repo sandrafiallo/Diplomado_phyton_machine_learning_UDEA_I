{
  "nbformat": 4,
  "nbformat_minor": 0,
  "metadata": {
    "colab": {
      "name": "sesion2.ipynb",
      "provenance": [],
      "collapsed_sections": []
    },
    "kernelspec": {
      "name": "python3",
      "display_name": "Python 3"
    }
  },
  "cells": [
    {
      "cell_type": "markdown",
      "metadata": {
        "id": "VZSV2ejaAulh"
      },
      "source": [
        "<p><img alt=\"Colaboratory logo\" height=\"140px\" src=\"https://upload.wikimedia.org/wikipedia/commons/archive/f/fb/20161010213812%21Escudo-UdeA.svg\" align=\"left\" hspace=\"10px\" vspace=\"0px\"></p>\n",
        "\n",
        "# **Diplomado de Análisis de datos y Machine Learning en Python**\n",
        "\n",
        "\n",
        "El presente diplomado hace parte del centro de Big Data de la facultad de ciencias exactas y naturales (FCEN) de la Universidad de Antioquia.\n",
        "\n",
        "## **Sesión 2**\n",
        "\n",
        "## **Contenido**\n",
        "   \n",
        "- <a href=\"#int\"> Introducción a Python</a><br>\n",
        "- <a href=\"#sin\"> Sintáxis de Python</a><br>\n",
        "- <a href=\"#sem\"> Semántica de Python</a><br>\n",
        "  - <a href=\"#var\"> Variables</a><br>\n",
        "  - <a href=\"#ope\"> Operadores</a><br>\n",
        "    - <a href=\"#opa\"> Operadores aritméticos</a><br>\n",
        "    - <a href=\"#opc\"> Operadores de comparación</a><br>\n",
        "    - <a href=\"#opb\"> Operaciones booleanas</a><br>\n",
        "    - <a href=\"#opm\"> Operadores de identidad y membresía</a><br>"
      ]
    },
    {
      "cell_type": "markdown",
      "metadata": {
        "id": "5ZZDpNjzBnTo"
      },
      "source": [
        "<p><a name=\"int\"></a></p>\n",
        "\n",
        "# **Introducción a Python**\n",
        "\n",
        "Creado en los 80's por Guido Van Rossum, Python se ha convertido desde entonces en una herramienta esencial para muchos programadores, ingenieros, investigadores y científicos de datos, tanto en la academia como en la industria.\n",
        "\n",
        "El atractivo de Python radica en su simplicidad, así como en el gran ecosistema de herramientas específicas que se han construido sobre este. Por ejemplo, la mayor parte del código de Python en ciencia de datos se basa en un grupo de paquetes útiles: Numpy, Matplotlib, SciPy, Pandas y Scikit-Learn. No menos importantes son las numerosas otras herramientas y paquetes que acompañan a estos: si hay una tarea científica que deseemos realizar, es probable que encontremos un paquete que realice dicha tarea. Sin embargo, para aprovechar el poder de este ecosistema, primero debemos familiarizarnos con el lenguaje Python por sí solo.\n",
        "\n",
        "Python es un lenguaje de programación de alto nivel (sintaxis simple), interpretado, interactivo y orientado a objetos:\n",
        "\n",
        "* **Interpretado**: Python es procesado al momento de la ejecución por el interpretador. No se necesita de un proceso previo de compilación para la posterior ejecución del programa.\n",
        "\n",
        "* **Interactivo**: Podemos interactuar con el intérprete directamente para escribir los programas.\n",
        "\n",
        "* **Orientado a objetos**: Python es un lenguaje orientado a objetos, una técnica de programación que encapsula el código dentro de objetos.\n",
        "\n",
        "**Ejecutando código de Python**\n",
        "\n",
        "Python es un lenguaje flexible y existen varias formas de usarlo. Una característica que distingue a Python de otros lenguajes de programación es que este es un lenguaje *interpreado*. Esto significa que se ejecuta línea por línea, lo que permite que la programación sea interactiva de una manera que no es directamente posible con lenguajes compilados como C++ o Java.\n",
        "\n",
        "Existen diferentes maneras de ejecutar código de Python. Nosotros usaremos un enfoque interactivo proporcionado por los *cuadernos de Jupyter*. \n",
        "\n",
        "**¿Qué es un Cuaderno?**\n",
        "\n",
        "Es un formato de documento que permite combinar código ejecutable, texto, gráficos e incluso características interactivas en un solo documento. Una excelente alternativa es **Google Colaboratory**, el cual es un servicio en la nube, que nos provee de un cuaderno de Jupyter al que podemos acceder con un navegador web sin importar el sistema operativo. Tiene como grandes ventajas:\n",
        "\n",
        "* Posibilidad de activar diferentes procesadores: GPU (unidad de procesamiento gráfico) o TPU (unidad de procesamiento tensorial)\n",
        "* Podemos crear cuaderdos de Python 3: Debido a que Python 2 fue oficialmente descontinuado el primero de enero del 2020, nos centraremos exclusivamente en Python 3.\n",
        "* Tiene preinstaladas las librerías comunes \n",
        "* La posibilidad de enlazar con nuestra cuenta de Google Drive, podemos leer desde ahí archivos csv de entrada o guardar imágenes de salida, etc.\n",
        "\n",
        "\n",
        "\n",
        "\n",
        "\n"
      ]
    },
    {
      "cell_type": "markdown",
      "metadata": {
        "id": "KSIBv3h9aKjg"
      },
      "source": [
        "<p><a name=\"sin\"></a></p>\n",
        "\n",
        "# **Sintáxis de Python**\n",
        "\n",
        " Comencemos discutiendo las características principales de la sintaxis de Python.\n",
        "\n",
        "La sintaxis se refiere a la estructura del lenguaje (es decir, lo que constituye un programa formado correctamente). Por el momento, no nos centraremos en la semántica, el significado de las palabras y los símbolos dentro de la sintaxis, sino que volveremos a esto más adelante"
      ]
    },
    {
      "cell_type": "code",
      "metadata": {
        "id": "sng9sdMQ_fB3"
      },
      "source": [
        ""
      ],
      "execution_count": null,
      "outputs": []
    },
    {
      "cell_type": "code",
      "metadata": {
        "id": "YZQ_lBTKWLj4"
      },
      "source": [
        ""
      ],
      "execution_count": null,
      "outputs": []
    },
    {
      "cell_type": "markdown",
      "metadata": {
        "id": "hSgkNc5Yakqa"
      },
      "source": [
        "**Los comentarios en Python se marcan con #**\n"
      ]
    },
    {
      "cell_type": "code",
      "metadata": {
        "id": "KgA3rjKSai9a"
      },
      "source": [
        ""
      ],
      "execution_count": null,
      "outputs": []
    },
    {
      "cell_type": "markdown",
      "metadata": {
        "id": "a2FMxcJIaoG6"
      },
      "source": [
        "Los comentarios en Python se indican con un signo de número `#`. El intérprete ignora cualquier cosa en la línea que siga al signo de número"
      ]
    },
    {
      "cell_type": "code",
      "metadata": {
        "id": "OztWmCezapab"
      },
      "source": [
        ""
      ],
      "execution_count": null,
      "outputs": []
    },
    {
      "cell_type": "markdown",
      "metadata": {
        "id": "XHFktA-XarWR"
      },
      "source": [
        " Si queremos comentar un bloque de líneas, podemos utilizar `\"\"\"` de la siguiente manera:"
      ]
    },
    {
      "cell_type": "code",
      "metadata": {
        "id": "qgyyc3nFar9T"
      },
      "source": [
        ""
      ],
      "execution_count": null,
      "outputs": []
    },
    {
      "cell_type": "markdown",
      "metadata": {
        "id": "RkVCkOxUav8x"
      },
      "source": [
        "**El final de línea termina una sentencia**\n",
        "\n",
        "La siguiente línea en el código es"
      ]
    },
    {
      "cell_type": "code",
      "metadata": {
        "id": "O6qwqImLawxi"
      },
      "source": [
        ""
      ],
      "execution_count": null,
      "outputs": []
    },
    {
      "cell_type": "code",
      "metadata": {
        "id": "2T_rslEDBDMl"
      },
      "source": [
        ""
      ],
      "execution_count": null,
      "outputs": []
    },
    {
      "cell_type": "code",
      "metadata": {
        "id": "r7TtLN_6BDJb"
      },
      "source": [
        ""
      ],
      "execution_count": null,
      "outputs": []
    },
    {
      "cell_type": "code",
      "metadata": {
        "id": "lgyN3rb5ZcSu"
      },
      "source": [
        ""
      ],
      "execution_count": null,
      "outputs": []
    },
    {
      "cell_type": "markdown",
      "metadata": {
        "id": "Y6mNyOWDa3hZ"
      },
      "source": [
        "Esta es una operación de asignación, donde creamos una variable llamada `variable_ejemplo1` y le asignamos el valor 5. Observe que el final de esta sentencia simplemente está marcado por el final de la línea. Si queremos seguir en la siguiente línea tenemos dos opciones: utilizar el marcador `\\` para indicar un salto de línea"
      ]
    },
    {
      "cell_type": "code",
      "metadata": {
        "id": "cSzxsl77aOhH"
      },
      "source": [
        ""
      ],
      "execution_count": null,
      "outputs": []
    },
    {
      "cell_type": "markdown",
      "metadata": {
        "id": "Wls0Rpjwa61D"
      },
      "source": [
        "o incluir toda la expresión entre paréntesis:1"
      ]
    },
    {
      "cell_type": "code",
      "metadata": {
        "id": "m8YUmkPpa3vC"
      },
      "source": [
        ""
      ],
      "execution_count": null,
      "outputs": []
    },
    {
      "cell_type": "markdown",
      "metadata": {
        "id": "gFo1ByAJbA0o"
      },
      "source": [
        "A veces puede ser útil tener varias declaraciones en una sola línea. La siguiente parte del código es"
      ]
    },
    {
      "cell_type": "code",
      "metadata": {
        "id": "hUM3HSM_bBSr"
      },
      "source": [
        ""
      ],
      "execution_count": null,
      "outputs": []
    },
    {
      "cell_type": "code",
      "metadata": {
        "id": "Pb96Q0RLDmAt"
      },
      "source": [
        ""
      ],
      "execution_count": null,
      "outputs": []
    },
    {
      "cell_type": "markdown",
      "metadata": {
        "id": "XCcDUKJ1bD2K"
      },
      "source": [
        "Con lo cual se ilustra que el punto y coma (`;`) puede terminar una sentencia. Lo anterior es completamente equivalente a"
      ]
    },
    {
      "cell_type": "code",
      "metadata": {
        "id": "USI9O5RtbF8q"
      },
      "source": [
        ""
      ],
      "execution_count": null,
      "outputs": []
    },
    {
      "cell_type": "markdown",
      "metadata": {
        "id": "8KX6jTh-bHg6"
      },
      "source": [
        "**Indentación: ¡El espacio en blanco es importante!**\n",
        "\n",
        "Llegamos al bloque de código principal:"
      ]
    },
    {
      "cell_type": "code",
      "metadata": {
        "id": "zdLIbQ76bKAe"
      },
      "source": [
        ""
      ],
      "execution_count": null,
      "outputs": []
    },
    {
      "cell_type": "code",
      "metadata": {
        "id": "OFv4mzdiFDQN"
      },
      "source": [
        ""
      ],
      "execution_count": null,
      "outputs": []
    },
    {
      "cell_type": "markdown",
      "metadata": {
        "id": "O3P-fIeYbUyw"
      },
      "source": [
        "En python, los bloques de código se denotan por la indentación"
      ]
    },
    {
      "cell_type": "markdown",
      "metadata": {
        "id": "dl82l4UubaDP"
      },
      "source": [
        "En Python, los bloques de código indentados siempre van precedidos de dos puntos (`:`) en la línea anterior. \n",
        "\n",
        "El uso de espacios en blanco por parte de Python a menudo es sorprendente para los programadores que están acostumbrados a otros lenguajes, pero en la práctica puede conducir a un código mucho más coherente y legible que los lenguajes que no imponen indentación para los bloques de código, aunque no siempre es el caso. "
      ]
    },
    {
      "cell_type": "markdown",
      "metadata": {
        "id": "qzUy5XmzbdO3"
      },
      "source": [
        "**El espacio en blanco dentro de las líneas no importa**\n",
        "\n",
        "Como vimos, el espacio en blanco es significativo para indicar un bloque de código. El espacio en blanco dentro de las líneas de código no importa. Por ejemplo, las siguientes tres expresiones son equivalentes:"
      ]
    },
    {
      "cell_type": "code",
      "metadata": {
        "id": "5-etl17PbaqB"
      },
      "source": [
        ""
      ],
      "execution_count": null,
      "outputs": []
    },
    {
      "cell_type": "code",
      "metadata": {
        "id": "qjtdgCk2f28h"
      },
      "source": [
        ""
      ],
      "execution_count": null,
      "outputs": []
    },
    {
      "cell_type": "code",
      "metadata": {
        "id": "MJh-gOeSFVmU"
      },
      "source": [
        ""
      ],
      "execution_count": null,
      "outputs": []
    },
    {
      "cell_type": "markdown",
      "metadata": {
        "id": "zzzn9f1abmFt"
      },
      "source": [
        "Abusar de esta flexibilidad puede conducir a problemas en la lectura del código. El uso efectivo de espacios en blanco puede conducir a un código mucho más legible. \n"
      ]
    },
    {
      "cell_type": "markdown",
      "metadata": {
        "id": "J5WKXpGEbqaf"
      },
      "source": [
        "**Los paréntesis son para agrupar o llamar**\n",
        "\n",
        "Los paréntesis se usan, principalmente, para dos tareas. Primero, se pueden usar de la manera típica para agrupar enunciados u operaciones matemáticas:\n"
      ]
    },
    {
      "cell_type": "code",
      "metadata": {
        "id": "UKof1X2sbsS6"
      },
      "source": [
        ""
      ],
      "execution_count": null,
      "outputs": []
    },
    {
      "cell_type": "markdown",
      "metadata": {
        "id": "FgRJnzSvbvBG"
      },
      "source": [
        "También se pueden usar para indicar que se está llamando a una función. En el siguiente fragmento, la función propia de Python `print()` se utiliza para mostrar el contenido de una variable. La llamada a la función se indica mediante un par de paréntesis de apertura y cierre, con los argumentos de la función contenidos en ellos."
      ]
    },
    {
      "cell_type": "code",
      "metadata": {
        "id": "xHuedlJvbv2_"
      },
      "source": [
        ""
      ],
      "execution_count": null,
      "outputs": []
    },
    {
      "cell_type": "markdown",
      "metadata": {
        "id": "nAGX4Y7vb2d2"
      },
      "source": [
        "Algunas funciones (métodos) pueden invocarse sin ningún argumento, en cuyo caso los paréntesis de apertura y cierre deben usarse para indicar la evaluación de la función. Este es el caso del método sort() para una lista."
      ]
    },
    {
      "cell_type": "code",
      "metadata": {
        "id": "m7mZUKNAb4uO"
      },
      "source": [
        ""
      ],
      "execution_count": null,
      "outputs": []
    },
    {
      "cell_type": "markdown",
      "metadata": {
        "id": "yjHIlqdDb8uO"
      },
      "source": [
        "<p><a name=\"sem\"></a></p>\n",
        "\n",
        "# **Semántica de Python**\n",
        "\n",
        "En esta sección comenzaremos a cubrir la semántica básica de Python. A diferencia de la sintaxis cubierta en la sección anterior, la semántica de un lenguaje implica el significado de las declaraciones. Al igual que con nuestra discusión sobre la sintaxis, aquí veremos algunas de las construcciones semánticas esenciales en Python para dar un mejor marco de referencia para comprender el código en las siguientes secciones"
      ]
    },
    {
      "cell_type": "markdown",
      "metadata": {
        "id": "J6dGPVEmdoPR"
      },
      "source": [
        "<p><a name=\"var\"></a></p>\n",
        "\n",
        "## **Variables**\n",
        "\n",
        "Los nombres de las variables en Python pueden contener caracteres alfanuméricos *a-z*, *A-Z*, *0-9* y algunos caracteres especiales como _. Los nombres de las variables deben comenzar con una letra. Por convención, los nombres de las variables comienzan con letras minúsculas. Adicionalmente, existe un número de palabras claves que no pueden ser usadas como nombres de variables. Estas palabras claves son:\n",
        "\n",
        "> `and, as, assert, break, class, continue, def, del, elif, else, except, exec, finally, for, from, global, if, import, in, is, lambda, not, or, pass, print, raise, return, try, while, with, yield`\n",
        "\n",
        "En Python, las variables fundamentales son \n",
        "\n",
        "\n"
      ]
    },
    {
      "cell_type": "code",
      "metadata": {
        "id": "0GIiBkVEfMo2"
      },
      "source": [
        "# Tipo    # ejemplo     # Descripción\n",
        "int       x = 1         # integer: números enteros \n",
        "float     x = 3.1415    # floating point number: números de punto flotante (números reales)\n",
        "complex   x = 1 + 2j    # complex: números complejos (números con parte real e imaginaria)\n",
        "bool      x = True      # boolean: dos posibles valores: verdadero o falso (True o False)\n",
        "str       x = \"aeiou\"   # string: caracteres o texto\n",
        "None      x = None      # Objeto especial que indica valores nulos"
      ],
      "execution_count": null,
      "outputs": []
    },
    {
      "cell_type": "markdown",
      "metadata": {
        "id": "ZSf3Ug4PfR4C"
      },
      "source": [
        "Adicionalmente tenemos variables compuestas, las cuales se construyen a partir de estas variables fundamentales. Un ejemplo son las variables de tipo lista que vimos en la sección anterior y que estudiaremos más a fondo en las próximas sesiones.\n",
        "\n",
        "***(el número `j` es lo que en matemáticas se llama $i = \\sqrt{-1}$ )***\n",
        "\n",
        "Podemos acceder al tipo de variable utilizando la función nativa de Python `type`:"
      ]
    },
    {
      "cell_type": "code",
      "metadata": {
        "id": "dFIfsoX4mzg0"
      },
      "source": [
        ""
      ],
      "execution_count": null,
      "outputs": []
    },
    {
      "cell_type": "code",
      "metadata": {
        "id": "pA3cDi4LIskm"
      },
      "source": [
        ""
      ],
      "execution_count": null,
      "outputs": []
    },
    {
      "cell_type": "code",
      "metadata": {
        "id": "ZOc-iZh4fYPf"
      },
      "source": [
        ""
      ],
      "execution_count": null,
      "outputs": []
    },
    {
      "cell_type": "code",
      "metadata": {
        "id": "SS1pKsztJv1w"
      },
      "source": [
        ""
      ],
      "execution_count": null,
      "outputs": []
    },
    {
      "cell_type": "markdown",
      "metadata": {
        "id": "hG6G5sXxk6BI"
      },
      "source": [
        "Podemos utilizar las funciones nativas de Python que aparecen en la columna \"Tipo\" para realizar conversiones entre los diferentes tipos de variable:"
      ]
    },
    {
      "cell_type": "code",
      "metadata": {
        "id": "Md56ThmJlCbi"
      },
      "source": [
        ""
      ],
      "execution_count": null,
      "outputs": []
    },
    {
      "cell_type": "markdown",
      "metadata": {
        "id": "mYS9RHXhl16k"
      },
      "source": [
        "### **Todo en Python es un objeto**\n",
        "\n",
        "Sin embargo, los tipos están vinculados no a los nombres de las variables sino a *los objetos mismos.* En lenguajes de programación orientados a objetos como Python, un objeto es una entidad que contiene datos junto con funcionalidades asociadas. \n",
        "\n",
        "Este concepto no se diferencia mucho del concepto de objeto en la vida real. Pensemos por ejemplo en un Robot: es un objeto con ciertas características (nombre, color, peso, etc) y ciertas funcionalidades (hablar, mover un brazo, mover una pierna, etc).\n",
        "\n",
        "\n",
        "En Python, todo es un objeto, lo que significa que cada entidad tiene algunas características (llamados atributos) y funcionalidades asociadas (llamados métodos). Veamos un ejemplo: creemos un objeto del tipo `complex`:"
      ]
    },
    {
      "cell_type": "code",
      "metadata": {
        "id": "iL9u_VvKl_8X"
      },
      "source": [
        "z = 4+2j "
      ],
      "execution_count": null,
      "outputs": []
    },
    {
      "cell_type": "markdown",
      "metadata": {
        "id": "dRNyFNoPl_tD"
      },
      "source": [
        "como ya se mencionó, este objeto tiene ciertos atributos (características) y métodos asociados (funcionalidades). Por ejemplo, los atributos `real` e `imag` contienen información de la parte real y la parte imaginaria del objeto. Para acceder a estos atributos utilizamos la sintáxis de punto `.` :"
      ]
    },
    {
      "cell_type": "code",
      "metadata": {
        "id": "4nbW6EtCmGp9"
      },
      "source": [
        ""
      ],
      "execution_count": null,
      "outputs": []
    },
    {
      "cell_type": "markdown",
      "metadata": {
        "id": "XSub_l4bmOVc"
      },
      "source": [
        "Los métodos son como atributos, excepto que son funciones que se pueden llamar utilizando un par de paréntesis de apertura y cierre. Por ejemplo, los objetos de tipo `float` tienen un método llamado `is_integer()` que verifica si el valor es un entero:"
      ]
    },
    {
      "cell_type": "code",
      "metadata": {
        "id": "gEx1Ir44mPX5"
      },
      "source": [
        ""
      ],
      "execution_count": null,
      "outputs": []
    },
    {
      "cell_type": "markdown",
      "metadata": {
        "id": "ReMmRTznmXEU"
      },
      "source": [
        "Cuando decimos que todo en Python es un objeto, realmente queremos decir que todo es un objeto, incluso los atributos y métodos de los objetos son en sí mismos objetos con su propia información de tipo"
      ]
    },
    {
      "cell_type": "markdown",
      "metadata": {
        "id": "U0xPS-N_oAtB"
      },
      "source": [
        "Para explorar los métodos y atributos de un objeto, podemos utilizar las funciones nativas de Python `dir` y `help` (o alternativamente, si ponemos un punto `.` luego del objeto se desplegará una lista con los métodos y atributos del objeto)\n",
        "\n",
        "También podemos poner  un `?` al final de un método para leer algo de documentación sobre este"
      ]
    },
    {
      "cell_type": "code",
      "metadata": {
        "id": "BmS01le_oYXz"
      },
      "source": [
        ""
      ],
      "execution_count": null,
      "outputs": []
    },
    {
      "cell_type": "code",
      "metadata": {
        "id": "S3wHeXirof78"
      },
      "source": [
        ""
      ],
      "execution_count": null,
      "outputs": []
    },
    {
      "cell_type": "code",
      "metadata": {
        "id": "l8rvg7winuG0"
      },
      "source": [
        ""
      ],
      "execution_count": null,
      "outputs": []
    },
    {
      "cell_type": "markdown",
      "metadata": {
        "id": "6X3FAL_tfLer"
      },
      "source": [
        "### **Las variables de Python son punteros**\n",
        "\n",
        "\n",
        "\n",
        "Como ya vimos, asignar variables en Python es tan fácil como poner un nombre de variable a la izquierda del signo igual `=`:"
      ]
    },
    {
      "cell_type": "markdown",
      "metadata": {
        "id": "KQwjkuC2uf4e"
      },
      "source": [
        "Esto puede parecer sencillo, pero si se tiene el modelo mental equivocado de lo que hace esta operación, la forma en que funciona Python puede parecer confusa.\n",
        "\n",
        "En muchos lenguajes de programación, las variables se consideran como contenedores en los que se colocan datos."
      ]
    },
    {
      "cell_type": "markdown",
      "metadata": {
        "id": "U1WByWRcu_eg"
      },
      "source": [
        "Esencialmente, se está definiendo un \"depósito de memoria\" con un tipo definido (int) llamado `x`, y colocando el valor `2337` en él. Gráficamente, podemos representar esto de la siguiente manera:\n",
        "\n",
        "![variables in C](https://i.imgur.com/0RQOTQ0.png)\n",
        "\n"
      ]
    },
    {
      "cell_type": "markdown",
      "metadata": {
        "id": "TaZyzDAvvYQW"
      },
      "source": [
        "En Python, por el contrario, las variables se consideran no como contenedores sino como *punteros*. \n",
        "\n",
        "Un puntero es un objeto cuyo valor *apunta* a otro valor almacenado en otra parte de la memoria del ordenador utilizando su dirección. En pocas palabras, un puntero hace referencia a una ubicación en memoria. Por lo tanto, cuando escribimos en Python"
      ]
    },
    {
      "cell_type": "code",
      "metadata": {
        "id": "Mky7EBCVvb2n"
      },
      "source": [
        "x = 2337"
      ],
      "execution_count": null,
      "outputs": []
    },
    {
      "cell_type": "markdown",
      "metadata": {
        "id": "L6-ygfvEv0QJ"
      },
      "source": [
        "básicamente se está definiendo un puntero llamado `x` que apunta a algún otro depósito de memoria que contiene el valor 2337. Como consecuencia, debido a que las variables de Python apuntan a varios *objetos*, no hay necesidad de \"declarar\" la variable (como sí se hace en el caso de C, donde para utilizar una variable se debe declarar previamente tanto su tipo como su valor), ¡o incluso requerir que la variable siempre apunte a información del mismo tipo! Este es el sentido en el que se dice que Python es de *tipado dinámico*: los nombres de las variables pueden apuntar a objetos de cualquier tipo.\n",
        "\n",
        "![](https://i.imgur.com/F3IQqwE.png)"
      ]
    },
    {
      "cell_type": "markdown",
      "metadata": {
        "id": "AHvjAQx_wKgL"
      },
      "source": [
        "Hay una consecuencia de este enfoque de \"variable como puntero\" que se debe tener en cuenta. Cada objeto en Python contiene al menos tres datos, como vimos en la figura anterior:\n",
        "\n",
        "* Tipo\n",
        "* Valor\n",
        "* Conteo de referencia\n",
        "\n",
        "Sin embargo, no todos los objetos son iguales. Hay otra distinción importante que debemos tener en cuenta: objetos inmutables vs objetos mutables.\n",
        "\n",
        "* **Objeto inmutable**: No puede ser cambiado.\n",
        "* **Objeto mutable**: Puede ser cambiado.\n",
        "\n",
        "Por ejemplo, todas las variables fundamentales que vimos son objetos inmutables. Variables compuestas como las listas o los diccionarios son objetos mutables.\n",
        "\n",
        "Veamos cómo esto afecta la declaración de variables. Para aclarar estos conceptos, realicemos un paralelo entre las variables en C y las variables en Python.\n",
        "\n",
        "Volvamos a la variable en C que definimos anteriormente:"
      ]
    },
    {
      "cell_type": "code",
      "metadata": {
        "id": "4c2bcc33xNLY"
      },
      "source": [
        "# codigo en C\n",
        "int x = 2337 ;"
      ],
      "execution_count": null,
      "outputs": []
    },
    {
      "cell_type": "markdown",
      "metadata": {
        "id": "FgTiFsObxR0R"
      },
      "source": [
        "Cuando se ejecuta esta línea se hace lo siguiente:\n",
        "\n",
        "* Alojar la memoria necesaria para un entero\n",
        "* Asignar el valor 2337 en esa dirección de memoria\n",
        "* Indicar que x apunta a ese valor\n",
        "\n",
        "![variables in C](https://i.imgur.com/0RQOTQ0.png)"
      ]
    },
    {
      "cell_type": "markdown",
      "metadata": {
        "id": "5AfMTdO3xTek"
      },
      "source": [
        "Si luego en el programa quisieramos modificar el valor de `x`, podríamos escribir los siguiente"
      ]
    },
    {
      "cell_type": "code",
      "metadata": {
        "id": "rXyZcv4FyA0S"
      },
      "source": [
        "# codigo en C\n",
        "x = 2338 ;"
      ],
      "execution_count": null,
      "outputs": []
    },
    {
      "cell_type": "markdown",
      "metadata": {
        "id": "DnCjCuGoyG_a"
      },
      "source": [
        "El código anterior asigna un nuevo valor (2338) a la variable `x`, sobrescribiendo así el valor anterior. Esto significa que la variable `x` es *mutable*\n",
        "\n",
        "![](https://i.imgur.com/aeLoUM5.png)\n",
        "\n",
        "Observe que la ubicación de `x` no cambió, solo el valor en sí. Significa que `x` es la ubicación de la memoria, no solo un nombre para ella. Si quisieramos crear otra variable `y`, a partir de `x`, podríamos escribir:\n",
        "\n"
      ]
    },
    {
      "cell_type": "code",
      "metadata": {
        "id": "4RZxbxDbyyl8"
      },
      "source": [
        "# codigo en C\n",
        "int y = x;"
      ],
      "execution_count": null,
      "outputs": []
    },
    {
      "cell_type": "markdown",
      "metadata": {
        "id": "iOb8ivUay3fK"
      },
      "source": [
        "Este código crea un nuevo \"cuadro\" llamado `y` y copia el valor de `x` en el cuadro\n",
        "\n",
        "![](https://i.imgur.com/evHZpub.png)\n"
      ]
    },
    {
      "cell_type": "markdown",
      "metadata": {
        "id": "9vBuVNcVzGkg"
      },
      "source": [
        "Observe la nueva ubicación 0x7f5 de `y`. Aunque el valor de `x` se copió a `y`, la variable `y` posee una nueva dirección en memoria. Por lo tanto, podríamos sobrescribir el valor de `y` sin afectar a `x`\n"
      ]
    },
    {
      "cell_type": "code",
      "metadata": {
        "id": "FdwxfDH8zWUI"
      },
      "source": [
        "# codigo en C\n",
        "y = 2339;"
      ],
      "execution_count": null,
      "outputs": []
    },
    {
      "cell_type": "markdown",
      "metadata": {
        "id": "ivP8HDRfza-l"
      },
      "source": [
        "En memoria esto se vería como\n",
        "\n",
        "![](https://i.imgur.com/5XJhHyZ.png)\n",
        "\n",
        "Note que se ha modificado el valor en `y`, pero no su ubicación. Además, no ha afectado la variable `x` original en absoluto.\n",
        "\n",
        "Este comportamiento es muy diferente al que encontramos en Python. Veamos ahora estas mismas operaciones en Python. Para mirar de forma explícita la dirección en memoria, podemos utilizar la función propia de Python `id` para acceder a la dirección en memoria de la variable.\n"
      ]
    },
    {
      "cell_type": "code",
      "metadata": {
        "id": "qAlkZANUz6lx",
        "colab": {
          "base_uri": "https://localhost:8080/"
        },
        "outputId": "50aef514-385f-4889-be74-eeb37f005f2b"
      },
      "source": [
        ""
      ],
      "execution_count": null,
      "outputs": [
        {
          "output_type": "execute_result",
          "data": {
            "text/plain": [
              "139778584080688"
            ]
          },
          "metadata": {
            "tags": []
          },
          "execution_count": 94
        }
      ]
    },
    {
      "cell_type": "markdown",
      "metadata": {
        "id": "AiaQwJO30Gid"
      },
      "source": [
        "Cuando ejecutamos esta línea, se hace lo siguiente:\n",
        "\n",
        "* Crear un PyObject (No es un objeto como tal, representa la estructura base para todos los objetos de Python)\n",
        "* Asignar el tipo de variable para el PyObject \n",
        "* Asignar el valor 2237 al PyObject \n",
        "* Crear un nombre `x` \n",
        "* Hacer que `x` apunte al nuevo PyObject \n",
        "* Incrementar el conteo de referencia del PyObject en 1 \n",
        "\n",
        "![](https://i.imgur.com/F3IQqwE.png)\n",
        "\n",
        "Note la diferencia respecto a lo que encontrabamos en C. Si quisieramos asignar un nuevo valor a la variable `x` podríamos escribir:"
      ]
    },
    {
      "cell_type": "code",
      "metadata": {
        "colab": {
          "base_uri": "https://localhost:8080/"
        },
        "id": "CpEGOD6RRNiO",
        "outputId": "0437ea31-061a-4b66-f047-f14da68a2614"
      },
      "source": [
        ""
      ],
      "execution_count": null,
      "outputs": [
        {
          "output_type": "execute_result",
          "data": {
            "text/plain": [
              "139778584080688"
            ]
          },
          "metadata": {
            "tags": []
          },
          "execution_count": 95
        }
      ]
    },
    {
      "cell_type": "code",
      "metadata": {
        "id": "stQRc6sH1Plf",
        "colab": {
          "base_uri": "https://localhost:8080/"
        },
        "outputId": "3b38a253-1b57-464a-ddf2-2d4c94fe62a5"
      },
      "source": [
        ""
      ],
      "execution_count": null,
      "outputs": [
        {
          "output_type": "execute_result",
          "data": {
            "text/plain": [
              "139778451214512"
            ]
          },
          "metadata": {
            "tags": []
          },
          "execution_count": 96
        }
      ]
    },
    {
      "cell_type": "markdown",
      "metadata": {
        "id": "vuB7v49-1cJH"
      },
      "source": [
        "En este caso lo que se hace es:\n",
        "\n",
        "* Crear un PyObject \n",
        "* Asignar el tipo de variable para el PyObject \n",
        "* Asignar el valor 2237 al PyObject \n",
        "* Crear un nombre `x` \n",
        "* Hacer que `x` apunte al nuevo PyObject \n",
        "* Incrementar el conteo de referencia del nuevo PyObject en 1 \n",
        "* Reducir el conteo de referencia del viejo PyObject en 1 \n",
        "\n",
        "![](https://i.imgur.com/QDXLdoa.png)\n",
        "\n",
        "Este diagrama ilustra que `x` apunta a una referencia a un objeto y no posee el espacio de memoria como tal. También muestra que el comando `x = 2338` no es una asignación, sino que vincula el nombre `x` a una referencia.\n",
        "\n",
        "Podríamos introducir un nuevo nombre, `y`, como en el ejemplo de C:\n",
        "\n"
      ]
    },
    {
      "cell_type": "code",
      "metadata": {
        "id": "R3EnYpAR2L0L",
        "colab": {
          "base_uri": "https://localhost:8080/"
        },
        "outputId": "ffb503c4-dd77-4b2d-888f-420cbd85c19d"
      },
      "source": [
        ""
      ],
      "execution_count": null,
      "outputs": [
        {
          "output_type": "stream",
          "text": [
            "2338\n"
          ],
          "name": "stdout"
        }
      ]
    },
    {
      "cell_type": "markdown",
      "metadata": {
        "id": "XErmTQq_2z4D"
      },
      "source": [
        "En memoria tendremos un nuevo nombre, pero no necesariamente un nuevo objeto:\n",
        "\n",
        "![](https://i.imgur.com/jrPj3n9.png)\n",
        "\n",
        "Podemos verificar la igualdad de identidad de los objetos para confirmar que son iguales:\n",
        "\n",
        "\n"
      ]
    },
    {
      "cell_type": "code",
      "metadata": {
        "id": "ooWWvhna3m1N",
        "colab": {
          "base_uri": "https://localhost:8080/"
        },
        "outputId": "91c37a44-b741-4359-867e-d7f10f1738a8"
      },
      "source": [
        ""
      ],
      "execution_count": null,
      "outputs": [
        {
          "output_type": "stream",
          "text": [
            "139778451214512 139778451214512\n"
          ],
          "name": "stdout"
        },
        {
          "output_type": "execute_result",
          "data": {
            "text/plain": [
              "0"
            ]
          },
          "metadata": {
            "tags": []
          },
          "execution_count": 103
        }
      ]
    },
    {
      "cell_type": "markdown",
      "metadata": {
        "id": "QHo2Tzzm3nHR"
      },
      "source": [
        "Podemos ver que no se ha creado un nuevo objeto, solo un nuevo nombre que apunta al mismo objeto. Además, el conteo de referencia del objeto ha aumentado en uno. \n",
        "\n",
        "Hay que tener en cuenta que `y`, siendo una variable de tipo entero, sigue siendo inmutable: Si modificamos su valor se crea un nuevo objeto:"
      ]
    },
    {
      "cell_type": "code",
      "metadata": {
        "id": "YhVjwgqP3-Ye",
        "colab": {
          "base_uri": "https://localhost:8080/"
        },
        "outputId": "cb38d36a-d2b3-454f-b069-c916432e3498"
      },
      "source": [
        ""
      ],
      "execution_count": null,
      "outputs": [
        {
          "output_type": "execute_result",
          "data": {
            "text/plain": [
              "(139778451214512, 139778451214992)"
            ]
          },
          "metadata": {
            "tags": []
          },
          "execution_count": 101
        }
      ]
    },
    {
      "cell_type": "markdown",
      "metadata": {
        "id": "u7AKJdlN4E1g"
      },
      "source": [
        "en memoria veríamos esto como: \n",
        "\n",
        "![](https://i.imgur.com/LhSikZI.png)"
      ]
    },
    {
      "cell_type": "markdown",
      "metadata": {
        "id": "p9JsBg1R4icy"
      },
      "source": [
        "Hay una consecuencia de este enfoque de \"variable como puntero\" que se debe tener en cuenta. Si tenemos dos nombres de variables que apuntan al mismo objeto mutable, ¡cambiar uno también cambiará al otro! Veamos:"
      ]
    },
    {
      "cell_type": "code",
      "metadata": {
        "id": "MhyrvFGp4qlI",
        "colab": {
          "base_uri": "https://localhost:8080/"
        },
        "outputId": "40eb01f4-9243-4a19-8eaa-a37be9570c71"
      },
      "source": [
        ""
      ],
      "execution_count": null,
      "outputs": [
        {
          "output_type": "execute_result",
          "data": {
            "text/plain": [
              "(10914496, 10914496)"
            ]
          },
          "metadata": {
            "tags": []
          },
          "execution_count": 104
        }
      ]
    },
    {
      "cell_type": "markdown",
      "metadata": {
        "id": "0rnZaogC42lZ"
      },
      "source": [
        "Hemos creado dos variables `l1` y `l2`, ambas apuntando al mismo objeto. Debido a esto, si modificamos la lista a través de uno de sus nombres, debido a que la listas son objetos mutables, ambas se modificarán, por ejemplo agreguemos un item a l2:"
      ]
    },
    {
      "cell_type": "code",
      "metadata": {
        "id": "SP5jrXjf5PR0",
        "colab": {
          "base_uri": "https://localhost:8080/"
        },
        "outputId": "c21b501f-f3b6-4048-ac53-fd182b36d8ce"
      },
      "source": [
        ""
      ],
      "execution_count": null,
      "outputs": [
        {
          "output_type": "execute_result",
          "data": {
            "text/plain": [
              "(139778451911880, 139778451911880)"
            ]
          },
          "metadata": {
            "tags": []
          },
          "execution_count": 105
        }
      ]
    },
    {
      "cell_type": "markdown",
      "metadata": {
        "id": "NguaS6jk52qa"
      },
      "source": [
        "Este comportamiento puede parecer confuso si se piensa erróneamente que las variables son depositos que contienen datos. Pero si se piensa correctamente en las variables como punteros a objetos, y se tiene en cuenta el concepto de mutabilidad, entonces este comportamiento tiene sentido.\n",
        "\n",
        "\n"
      ]
    },
    {
      "cell_type": "code",
      "metadata": {
        "id": "RY59zUZv65ZW"
      },
      "source": [
        ""
      ],
      "execution_count": null,
      "outputs": []
    },
    {
      "cell_type": "code",
      "metadata": {
        "colab": {
          "base_uri": "https://localhost:8080/"
        },
        "id": "30ozltbJSjrN",
        "outputId": "1e2db688-82f4-4d7b-85f9-ee39997488fa"
      },
      "source": [
        ""
      ],
      "execution_count": null,
      "outputs": [
        {
          "output_type": "execute_result",
          "data": {
            "text/plain": [
              "[1, 5, 3]"
            ]
          },
          "metadata": {
            "tags": []
          },
          "execution_count": 107
        }
      ]
    },
    {
      "cell_type": "code",
      "metadata": {
        "id": "1MXyjMtKDCjB",
        "colab": {
          "base_uri": "https://localhost:8080/"
        },
        "outputId": "dca97514-814c-4be1-9101-ca10329a3f7b"
      },
      "source": [
        ""
      ],
      "execution_count": null,
      "outputs": [
        {
          "output_type": "execute_result",
          "data": {
            "text/plain": [
              "[1, 5, 3]"
            ]
          },
          "metadata": {
            "tags": []
          },
          "execution_count": 108
        }
      ]
    },
    {
      "cell_type": "code",
      "metadata": {
        "id": "u3sy-n7TDJKu",
        "colab": {
          "base_uri": "https://localhost:8080/"
        },
        "outputId": "e7c1ba2c-7c63-4d54-d59b-5829c11eef7d"
      },
      "source": [
        ""
      ],
      "execution_count": null,
      "outputs": [
        {
          "output_type": "execute_result",
          "data": {
            "text/plain": [
              "(139778728215624, 139778451911880)"
            ]
          },
          "metadata": {
            "tags": []
          },
          "execution_count": 110
        }
      ]
    },
    {
      "cell_type": "code",
      "metadata": {
        "colab": {
          "base_uri": "https://localhost:8080/"
        },
        "id": "WM_8hk_mS-Kr",
        "outputId": "9042b0d8-2b08-4fb0-b4ba-20cba3d9bb44"
      },
      "source": [
        ""
      ],
      "execution_count": null,
      "outputs": [
        {
          "output_type": "execute_result",
          "data": {
            "text/plain": [
              "([1, 5, 3], [1, 5, 3])"
            ]
          },
          "metadata": {
            "tags": []
          },
          "execution_count": 111
        }
      ]
    },
    {
      "cell_type": "markdown",
      "metadata": {
        "id": "59zMGQME64uN"
      },
      "source": [
        "Debemos tener mucho cuidado cuando trabajemos con objetos mutables. Si quisieramos crear un nuevo objeto mutable a partir de otro, pero no queremos que estos apunten al mismo objeto (de manera que al modificar esto no afecte al otro), podemos crear el nuevo objeto como una copia del anterior, utilizando el método `copy` de los objetos tipo lista:"
      ]
    },
    {
      "cell_type": "markdown",
      "metadata": {
        "id": "4cEKofEn6qOa"
      },
      "source": [
        "Note que de esta manera ahora ambas variables apuntan a objetos diferentes."
      ]
    },
    {
      "cell_type": "markdown",
      "metadata": {
        "id": "bBvJUcSZnunp"
      },
      "source": [
        "<p><a name=\"ope\"></a></p>\n",
        "\n",
        "# **Operadores**\n",
        "\n",
        "En la sección anterior, comenzamos a observar la semántica de las variables y objetos de Python; aquí profundizaremos en la semántica de los distintos operadores incluidos en el lenguaje\n",
        "\n"
      ]
    },
    {
      "cell_type": "markdown",
      "metadata": {
        "id": "Fm55Als973hf"
      },
      "source": [
        "<p><a name=\"opa\"></a></p>\n",
        "\n",
        "### **Operadores aritméticos**\n",
        "\n",
        "\n",
        "Python implementa siete operadores aritméticos binarios básicos, dos de los cuales (+ y -) pueden funcionar como operadores unarios\n",
        "\n"
      ]
    },
    {
      "cell_type": "code",
      "metadata": {
        "id": "RSAAsT8oFROj"
      },
      "source": [
        ""
      ],
      "execution_count": null,
      "outputs": []
    },
    {
      "cell_type": "code",
      "metadata": {
        "id": "3cCkrIu98PNi"
      },
      "source": [
        "a + b   # suma\n",
        "a - b   # resta\n",
        "a * b   # multiplicacion\n",
        "a / b   # division\n",
        "a // b  # division entera\n",
        "a % b   # modulo\n",
        "a ** b  # exponenciacion\n",
        "-a      # unario negativo (negacion)\n",
        "+a      # unario positivo (sin cambio)"
      ],
      "execution_count": null,
      "outputs": []
    },
    {
      "cell_type": "markdown",
      "metadata": {
        "id": "DOYv4RNg8Oc3"
      },
      "source": [
        "Estos operadores se pueden usar y combinar de manera intuitiva, usando paréntesis estándar para agrupar operaciones:"
      ]
    },
    {
      "cell_type": "code",
      "metadata": {
        "id": "p5zjrR56Dyuu",
        "colab": {
          "base_uri": "https://localhost:8080/"
        },
        "outputId": "15e99174-7566-4112-9073-431237782a2f"
      },
      "source": [
        ""
      ],
      "execution_count": null,
      "outputs": [
        {
          "output_type": "execute_result",
          "data": {
            "text/plain": [
              "12"
            ]
          },
          "metadata": {
            "tags": []
          },
          "execution_count": 113
        }
      ]
    },
    {
      "cell_type": "code",
      "metadata": {
        "id": "o-AaBxCOkpzH",
        "colab": {
          "base_uri": "https://localhost:8080/"
        },
        "outputId": "a7539076-e816-4453-a35a-5771ef9fc577"
      },
      "source": [
        ""
      ],
      "execution_count": null,
      "outputs": [
        {
          "output_type": "execute_result",
          "data": {
            "text/plain": [
              "-2"
            ]
          },
          "metadata": {
            "tags": []
          },
          "execution_count": 114
        }
      ]
    },
    {
      "cell_type": "code",
      "metadata": {
        "id": "CsNeG22ywVbC",
        "colab": {
          "base_uri": "https://localhost:8080/"
        },
        "outputId": "4c8607e6-7f03-411f-be30-75cd433dbdf4"
      },
      "source": [
        ""
      ],
      "execution_count": null,
      "outputs": [
        {
          "output_type": "execute_result",
          "data": {
            "text/plain": [
              "35"
            ]
          },
          "metadata": {
            "tags": []
          },
          "execution_count": 115
        }
      ]
    },
    {
      "cell_type": "code",
      "metadata": {
        "colab": {
          "base_uri": "https://localhost:8080/"
        },
        "id": "_xCjSmw-T0rZ",
        "outputId": "e4e52380-e113-47a1-895c-a72fd3b18e89"
      },
      "source": [
        ""
      ],
      "execution_count": null,
      "outputs": [
        {
          "output_type": "execute_result",
          "data": {
            "text/plain": [
              "1.4"
            ]
          },
          "metadata": {
            "tags": []
          },
          "execution_count": 117
        }
      ]
    },
    {
      "cell_type": "code",
      "metadata": {
        "colab": {
          "base_uri": "https://localhost:8080/"
        },
        "id": "MU9kIIVjT0ZC",
        "outputId": "e6c6447e-afab-456e-8e95-304a6ad27c94"
      },
      "source": [
        ""
      ],
      "execution_count": null,
      "outputs": [
        {
          "output_type": "execute_result",
          "data": {
            "text/plain": [
              "1"
            ]
          },
          "metadata": {
            "tags": []
          },
          "execution_count": 118
        }
      ]
    },
    {
      "cell_type": "code",
      "metadata": {
        "colab": {
          "base_uri": "https://localhost:8080/"
        },
        "id": "J5R4hmjMT0I5",
        "outputId": "ccfa2877-81e8-42f3-bd04-3b398148a714"
      },
      "source": [
        ""
      ],
      "execution_count": null,
      "outputs": [
        {
          "output_type": "execute_result",
          "data": {
            "text/plain": [
              "2"
            ]
          },
          "metadata": {
            "tags": []
          },
          "execution_count": 119
        }
      ]
    },
    {
      "cell_type": "code",
      "metadata": {
        "id": "P8GSDfK5wXe_",
        "colab": {
          "base_uri": "https://localhost:8080/"
        },
        "outputId": "a557793e-380c-44b2-9723-df09403636cd"
      },
      "source": [
        ""
      ],
      "execution_count": null,
      "outputs": [
        {
          "output_type": "execute_result",
          "data": {
            "text/plain": [
              "16807"
            ]
          },
          "metadata": {
            "tags": []
          },
          "execution_count": 120
        }
      ]
    },
    {
      "cell_type": "markdown",
      "metadata": {
        "id": "zhyx9Ly1v5QA"
      },
      "source": [
        "Hemos visto que las variables se pueden asignar con el operador `=`. Por ejemplo:"
      ]
    },
    {
      "cell_type": "code",
      "metadata": {
        "id": "2tfpBgUjv8qx",
        "colab": {
          "base_uri": "https://localhost:8080/"
        },
        "outputId": "7514c22f-ded0-4415-f630-21f97b9fa0ef"
      },
      "source": [
        ""
      ],
      "execution_count": null,
      "outputs": [
        {
          "output_type": "execute_result",
          "data": {
            "text/plain": [
              "9"
            ]
          },
          "metadata": {
            "tags": []
          },
          "execution_count": 121
        }
      ]
    },
    {
      "cell_type": "code",
      "metadata": {
        "id": "E077-iDzEaef",
        "colab": {
          "base_uri": "https://localhost:8080/"
        },
        "outputId": "3b23feea-40f7-47f2-aaf6-afd3e1ba4a65"
      },
      "source": [
        ""
      ],
      "execution_count": null,
      "outputs": [
        {
          "output_type": "execute_result",
          "data": {
            "text/plain": [
              "11"
            ]
          },
          "metadata": {
            "tags": []
          },
          "execution_count": 122
        }
      ]
    },
    {
      "cell_type": "code",
      "metadata": {
        "colab": {
          "base_uri": "https://localhost:8080/"
        },
        "id": "4SwIh7HuUefi",
        "outputId": "598acbc7-8b2f-415e-d5d9-bbf34b340b91"
      },
      "source": [
        ""
      ],
      "execution_count": null,
      "outputs": [
        {
          "output_type": "execute_result",
          "data": {
            "text/plain": [
              "9"
            ]
          },
          "metadata": {
            "tags": []
          },
          "execution_count": 123
        }
      ]
    },
    {
      "cell_type": "code",
      "metadata": {
        "colab": {
          "base_uri": "https://localhost:8080/"
        },
        "id": "T98MR9frUhFw",
        "outputId": "afbbb649-e329-4361-c937-01c0afd17bc4"
      },
      "source": [
        ""
      ],
      "execution_count": null,
      "outputs": [
        {
          "output_type": "execute_result",
          "data": {
            "text/plain": [
              "36"
            ]
          },
          "metadata": {
            "tags": []
          },
          "execution_count": 125
        }
      ]
    },
    {
      "cell_type": "markdown",
      "metadata": {
        "id": "4Lf-N2mdwKGZ"
      },
      "source": [
        "Es posible que queramos actualizar la variable `x` con este nuevo valor. En este caso, podríamos combinar la suma y la asignación y escribir `x = x + 2`. Debido a que este tipo de operación y asignación combinadas es tan común, Python incluye operadores de actualización integrados para todas las operaciones aritméticas:"
      ]
    },
    {
      "cell_type": "markdown",
      "metadata": {
        "id": "V1mJfqIIw12y"
      },
      "source": [
        "Este tipo de abreviaciones funcionan con las siguientes operaciones: \n",
        "\n",
        "`+= -= /= *=`"
      ]
    },
    {
      "cell_type": "markdown",
      "metadata": {
        "id": "5Nqe-prAxNYN"
      },
      "source": [
        "<p><a name=\"opc\"></a></p>\n",
        "\n",
        "### **Operadores de comparación**\n",
        "\n",
        "Otro tipo de operación que puede ser muy útil es la comparación de diferentes valores. Para esto, Python implementa operadores de comparación estándar, que devuelven valores booleanos `True` y `False`.\n",
        "\n"
      ]
    },
    {
      "cell_type": "code",
      "metadata": {
        "id": "J68FjBvb8to8"
      },
      "source": [
        "a == b    #a igual a b\n",
        "a != b    #a diferente de b\n",
        "a < b     #a menor a b\n",
        "a > b     #a mayor a b\n",
        "a <= b    #a menor igual a b\n",
        "a >= b    #a mayor igual a b"
      ],
      "execution_count": null,
      "outputs": []
    },
    {
      "cell_type": "markdown",
      "metadata": {
        "id": "_cHrhnQs8t8g"
      },
      "source": [
        "Estos operadores de comparación se pueden combinar con los operadores aritméticos para expresar un rango prácticamente ilimitado de pruebas para los números"
      ]
    },
    {
      "cell_type": "code",
      "metadata": {
        "id": "dMyMFDw6GZWF",
        "colab": {
          "base_uri": "https://localhost:8080/"
        },
        "outputId": "5d369c6a-95e3-47ce-9d93-fb7352845d9a"
      },
      "source": [
        ""
      ],
      "execution_count": null,
      "outputs": [
        {
          "output_type": "execute_result",
          "data": {
            "text/plain": [
              "False"
            ]
          },
          "metadata": {
            "tags": []
          },
          "execution_count": 126
        }
      ]
    },
    {
      "cell_type": "code",
      "metadata": {
        "id": "sMuQIjN6GXHi",
        "colab": {
          "base_uri": "https://localhost:8080/"
        },
        "outputId": "dd650868-09d1-4de3-e4ee-453dcd307747"
      },
      "source": [
        ""
      ],
      "execution_count": null,
      "outputs": [
        {
          "output_type": "execute_result",
          "data": {
            "text/plain": [
              "False"
            ]
          },
          "metadata": {
            "tags": []
          },
          "execution_count": 127
        }
      ]
    },
    {
      "cell_type": "code",
      "metadata": {
        "id": "WwwnXXHHF9qY",
        "colab": {
          "base_uri": "https://localhost:8080/"
        },
        "outputId": "e9bd1fde-2a29-4f9a-d066-e62c60a88ded"
      },
      "source": [
        ""
      ],
      "execution_count": null,
      "outputs": [
        {
          "output_type": "execute_result",
          "data": {
            "text/plain": [
              "True"
            ]
          },
          "metadata": {
            "tags": []
          },
          "execution_count": 128
        }
      ]
    },
    {
      "cell_type": "code",
      "metadata": {
        "id": "zuTK0TnaxOU_",
        "colab": {
          "base_uri": "https://localhost:8080/"
        },
        "outputId": "4fc5f674-67d9-47a7-9801-5b760e83df11"
      },
      "source": [
        ""
      ],
      "execution_count": null,
      "outputs": [
        {
          "output_type": "execute_result",
          "data": {
            "text/plain": [
              "True"
            ]
          },
          "metadata": {
            "tags": []
          },
          "execution_count": 129
        }
      ]
    },
    {
      "cell_type": "code",
      "metadata": {
        "id": "Rzp387swxUQW",
        "colab": {
          "base_uri": "https://localhost:8080/"
        },
        "outputId": "bb7487ed-9450-4287-98c8-f4fb5c71f766"
      },
      "source": [
        ""
      ],
      "execution_count": null,
      "outputs": [
        {
          "output_type": "execute_result",
          "data": {
            "text/plain": [
              "True"
            ]
          },
          "metadata": {
            "tags": []
          },
          "execution_count": 130
        }
      ]
    },
    {
      "cell_type": "markdown",
      "metadata": {
        "id": "F4Dw5QQfxacE"
      },
      "source": [
        "Podemos unir varias comparaciones para verificar relaciones más complicadas:\n"
      ]
    },
    {
      "cell_type": "code",
      "metadata": {
        "id": "wYV9AY-xxWke",
        "colab": {
          "base_uri": "https://localhost:8080/"
        },
        "outputId": "3679e94b-12f9-446a-d6e1-3f26da58d7f5"
      },
      "source": [
        ""
      ],
      "execution_count": null,
      "outputs": [
        {
          "output_type": "execute_result",
          "data": {
            "text/plain": [
              "True"
            ]
          },
          "metadata": {
            "tags": []
          },
          "execution_count": 133
        }
      ]
    },
    {
      "cell_type": "markdown",
      "metadata": {
        "id": "inzYYWBZxr8Q"
      },
      "source": [
        "<p><a name=\"opb\"></a></p>\n",
        "\n",
        "### **Operaciones booleanas**\n",
        "\n",
        "Al trabajar con valores booleanos, Python proporciona operadores para combinar los valores utilizando los conceptos estándar de \"and\", \"or\" y \"not\". Como es de esperarse, estos operadores se expresan usando las palabras `and`, `or`, y `not`:\n",
        "\n",
        "`and`: Este operador da como resultado True si y sólo si sus dos operandos son True:"
      ]
    },
    {
      "cell_type": "code",
      "metadata": {
        "id": "iik4P6RYxtyY",
        "colab": {
          "base_uri": "https://localhost:8080/"
        },
        "outputId": "3b0a5f0c-8d8e-4a64-939d-1346567eac9e"
      },
      "source": [
        ""
      ],
      "execution_count": null,
      "outputs": [
        {
          "output_type": "execute_result",
          "data": {
            "text/plain": [
              "False"
            ]
          },
          "metadata": {
            "tags": []
          },
          "execution_count": 137
        }
      ]
    },
    {
      "cell_type": "markdown",
      "metadata": {
        "id": "ewGTR_dnx6fx"
      },
      "source": [
        "`or`: Este operador da como resultado True si algún operando es True:"
      ]
    },
    {
      "cell_type": "code",
      "metadata": {
        "id": "tsGz0pesx7Cj",
        "colab": {
          "base_uri": "https://localhost:8080/"
        },
        "outputId": "786248a7-953e-4b58-ba60-49f55f0820e0"
      },
      "source": [
        ""
      ],
      "execution_count": null,
      "outputs": [
        {
          "output_type": "execute_result",
          "data": {
            "text/plain": [
              "True"
            ]
          },
          "metadata": {
            "tags": []
          },
          "execution_count": 135
        }
      ]
    },
    {
      "cell_type": "markdown",
      "metadata": {
        "id": "z6pBjdJTx94J"
      },
      "source": [
        "`not`: Este operador da como resultado True si y sólo si su argumento es False:"
      ]
    },
    {
      "cell_type": "code",
      "metadata": {
        "id": "ZYrn3no6x-ar",
        "colab": {
          "base_uri": "https://localhost:8080/"
        },
        "outputId": "52edef76-1539-4e75-8960-c5ce07d0f997"
      },
      "source": [
        ""
      ],
      "execution_count": null,
      "outputs": [
        {
          "output_type": "execute_result",
          "data": {
            "text/plain": [
              "False"
            ]
          },
          "metadata": {
            "tags": []
          },
          "execution_count": 136
        }
      ]
    },
    {
      "cell_type": "markdown",
      "metadata": {
        "id": "UUB92XSVykIS"
      },
      "source": [
        "Este tipo de operaciones booleanas se volverán extremadamente útiles cuando comencemos a discutir las declaraciones de flujo de control, como los condicionales y los ciclos."
      ]
    },
    {
      "cell_type": "markdown",
      "metadata": {
        "id": "TSxpZ0t8ym3i"
      },
      "source": [
        "<p><a name=\"opm\"></a></p>\n",
        "\n",
        "###  **Operadores de identidad y membresía**\n",
        "\n",
        "Python también contiene operadores para verificar *identidad* y *membresía*."
      ]
    },
    {
      "cell_type": "code",
      "metadata": {
        "id": "9AbuHx1Oyo3h"
      },
      "source": [
        "a is b      # a es b\n",
        "a is not b  # a no es en b\n",
        "a in b      # a está en b\n",
        "a not in b  # a no está en b"
      ],
      "execution_count": null,
      "outputs": []
    },
    {
      "cell_type": "markdown",
      "metadata": {
        "id": "cwY6psKIy59Q"
      },
      "source": [
        "Los operadores de identidad, `is` e `is not`, verifican la identidad del objeto. La identidad del objeto es diferente a la igualdad, como podemos ver aquí:"
      ]
    },
    {
      "cell_type": "code",
      "metadata": {
        "id": "nfMH4vAzy8Ag",
        "colab": {
          "base_uri": "https://localhost:8080/"
        },
        "outputId": "3353e7dc-c960-43c0-8b52-5bb7b076fc03"
      },
      "source": [
        ""
      ],
      "execution_count": null,
      "outputs": [
        {
          "output_type": "execute_result",
          "data": {
            "text/plain": [
              "False"
            ]
          },
          "metadata": {
            "tags": []
          },
          "execution_count": 138
        }
      ]
    },
    {
      "cell_type": "code",
      "metadata": {
        "id": "FrY8bFXxy-mp",
        "colab": {
          "base_uri": "https://localhost:8080/"
        },
        "outputId": "1c9c6528-c9a9-4cd0-aca3-ec3350e4d5cb"
      },
      "source": [
        ""
      ],
      "execution_count": null,
      "outputs": [
        {
          "output_type": "execute_result",
          "data": {
            "text/plain": [
              "([1, 5, 3], [1, 5, 3])"
            ]
          },
          "metadata": {
            "tags": []
          },
          "execution_count": 139
        }
      ]
    },
    {
      "cell_type": "code",
      "metadata": {
        "id": "wlBf3ptQzAJY",
        "colab": {
          "base_uri": "https://localhost:8080/"
        },
        "outputId": "4ccd552f-62a3-421e-fcb2-d40a44c2c62b"
      },
      "source": [
        ""
      ],
      "execution_count": null,
      "outputs": [
        {
          "output_type": "execute_result",
          "data": {
            "text/plain": [
              "True"
            ]
          },
          "metadata": {
            "tags": []
          },
          "execution_count": 141
        }
      ]
    },
    {
      "cell_type": "markdown",
      "metadata": {
        "id": "t5CBYPO9zDdY"
      },
      "source": [
        "¿Cómo son los objetos idénticos?"
      ]
    },
    {
      "cell_type": "markdown",
      "metadata": {
        "id": "_WduyhJxzjnf"
      },
      "source": [
        "Los operadores de membresía `in` y `not in` verifican la membresía dentro de los objetos compuestos. Entonces, por ejemplo, podemos escribir:"
      ]
    },
    {
      "cell_type": "code",
      "metadata": {
        "id": "XQbYUlhIzlHY",
        "colab": {
          "base_uri": "https://localhost:8080/"
        },
        "outputId": "e7d9dbff-f066-4d36-d9f3-81d5c7219f00"
      },
      "source": [
        ""
      ],
      "execution_count": null,
      "outputs": [
        {
          "output_type": "execute_result",
          "data": {
            "text/plain": [
              "True"
            ]
          },
          "metadata": {
            "tags": []
          },
          "execution_count": 142
        }
      ]
    },
    {
      "cell_type": "markdown",
      "metadata": {
        "id": "Fopx24gO9SgG"
      },
      "source": [
        "podemos usar el `not in`"
      ]
    },
    {
      "cell_type": "code",
      "metadata": {
        "id": "srT5NujDznuH",
        "colab": {
          "base_uri": "https://localhost:8080/"
        },
        "outputId": "d0ebdc2f-8e33-4070-8002-d3db18a772d3"
      },
      "source": [
        ""
      ],
      "execution_count": null,
      "outputs": [
        {
          "output_type": "execute_result",
          "data": {
            "text/plain": [
              "False"
            ]
          },
          "metadata": {
            "tags": []
          },
          "execution_count": 144
        }
      ]
    },
    {
      "cell_type": "markdown",
      "metadata": {
        "id": "GRT4uSyN9cZf"
      },
      "source": [
        "O con `str`"
      ]
    },
    {
      "cell_type": "code",
      "metadata": {
        "id": "HQCDKYTgzogO"
      },
      "source": [
        ""
      ],
      "execution_count": null,
      "outputs": []
    },
    {
      "cell_type": "code",
      "metadata": {
        "id": "5ryMbSg_zrG2",
        "colab": {
          "base_uri": "https://localhost:8080/"
        },
        "outputId": "fbeec132-1fd7-4df9-a64d-19ccafd878ba"
      },
      "source": [
        ""
      ],
      "execution_count": null,
      "outputs": [
        {
          "output_type": "execute_result",
          "data": {
            "text/plain": [
              "True"
            ]
          },
          "metadata": {
            "tags": []
          },
          "execution_count": 146
        }
      ]
    },
    {
      "cell_type": "code",
      "metadata": {
        "id": "Kr-kdqbLWmfT"
      },
      "source": [
        ""
      ],
      "execution_count": null,
      "outputs": []
    }
  ]
}